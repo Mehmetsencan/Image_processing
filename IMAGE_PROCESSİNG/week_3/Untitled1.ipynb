{
 "cells": [
  {
   "cell_type": "code",
   "execution_count": 5,
   "id": "0bb634b9-c93f-49a0-946d-9830afd2d5fd",
   "metadata": {},
   "outputs": [],
   "source": [
    "import cv2\n",
    "import numpy as np\n"
   ]
  },
  {
   "cell_type": "code",
   "execution_count": 7,
   "id": "54a549a8-bfc8-4f11-a1e5-ca35d0fdd789",
   "metadata": {},
   "outputs": [
    {
     "name": "stdout",
     "output_type": "stream",
     "text": [
      "(187, 269, 3)\n"
     ]
    }
   ],
   "source": [
    "my_img = cv2.imread(\"./download.jpg\",1)\n",
    "print(my_img.shape)"
   ]
  },
  {
   "cell_type": "code",
   "execution_count": 29,
   "id": "d2cd4bee-4269-443a-bbcc-dfbb609411b5",
   "metadata": {},
   "outputs": [],
   "source": [
    " cv2.imshow(\"RGB Image\", my_img)\n",
    "cv2.waitKey(0) \n",
    "cv2.destroyAllWindows()\n"
   ]
  },
  {
   "cell_type": "code",
   "execution_count": 23,
   "id": "e44c1115-047f-4272-b74e-829bfaba4f86",
   "metadata": {},
   "outputs": [],
   "source": [
    "img_vertical = cv2.flip(my_img,0)\n",
    "img_horizontal = cv2.flip(my_img,1)\n",
    "img_both = cv2.flip(my_img,-1)\n"
   ]
  },
  {
   "cell_type": "code",
   "execution_count": 25,
   "id": "64362e7a-24d2-4e78-ac9f-2636ef4058c2",
   "metadata": {},
   "outputs": [],
   "source": [
    "cv2.imshow(\"original Image\" ,my_img)\n",
    "cv2.imshow(\"vertical Image\",img_vertical)\n",
    "cv2.imshow(\"horizontal Image\",img_horizontal)\n",
    "cv2.imshow(\"vertical and horizontal Image\",img_both)\n",
    "cv2.waitKey(0) \n",
    "cv2.destroyAllWindows()"
   ]
  },
  {
   "cell_type": "code",
   "execution_count": 15,
   "id": "b671fd88-b2e2-4e71-bad3-c398d799b5e7",
   "metadata": {},
   "outputs": [
    {
     "data": {
      "text/plain": [
       "numpy.ndarray"
      ]
     },
     "execution_count": 15,
     "metadata": {},
     "output_type": "execute_result"
    }
   ],
   "source": [
    "type(my_img)"
   ]
  },
  {
   "cell_type": "code",
   "execution_count": 47,
   "id": "15dee5f8-4c62-4e14-989e-e5f3ab9e8fab",
   "metadata": {},
   "outputs": [],
   "source": [
    "vertical_with_code = my_img[::,:-1,:]\n",
    "cv2.imshow(\"vertical Image With Code\",vertical_with_code)\n",
    "cv2.waitKey(0)\n",
    "cv2.destroyAllWindows()"
   ]
  },
  {
   "cell_type": "code",
   "execution_count": 49,
   "id": "7c8097dc-557d-4a37-8538-fd351be3dd83",
   "metadata": {},
   "outputs": [
    {
     "name": "stdout",
     "output_type": "stream",
     "text": [
      "(187, 269, 3)\n",
      "görüntünün yüksekliği = 187\n",
      "görüntünün genişliği = 269\n",
      "görüntünün kanal sayısı = 3\n"
     ]
    }
   ],
   "source": [
    "print(my_img.shape)\n",
    "print(f\"görüntünün yüksekliği = {my_img.shape[0]}\")\n",
    "print(f\"görüntünün genişliği = {my_img.shape[1]}\")\n",
    "print(f\"görüntünün kanal sayısı = {my_img.shape[2]}\")"
   ]
  },
  {
   "cell_type": "code",
   "execution_count": 62,
   "id": "ba1a7ec8-34f2-4efc-bb06-980d935026b5",
   "metadata": {},
   "outputs": [],
   "source": [
    "resized_img = cv2.resize(my_img,(1920,900),cv2.INTER_LANCZOS4)\n",
    "cv2.imshow(\"original Image\", my_img)\n",
    "cv2.imshow(\"resized Image\",resized_img)\n",
    "cv2.waitKey(0)\n",
    "cv2.destroyAllWindows()"
   ]
  },
  {
   "cell_type": "code",
   "execution_count": null,
   "id": "27846500-0bca-4f7c-a418-294e3fe629b9",
   "metadata": {},
   "outputs": [],
   "source": []
  },
  {
   "cell_type": "code",
   "execution_count": null,
   "id": "3f6693c8-89a8-4bf7-aa76-df7cb8d2ac9c",
   "metadata": {},
   "outputs": [],
   "source": []
  }
 ],
 "metadata": {
  "kernelspec": {
   "display_name": "env_ybs",
   "language": "python",
   "name": "env_ybs"
  },
  "language_info": {
   "codemirror_mode": {
    "name": "ipython",
    "version": 3
   },
   "file_extension": ".py",
   "mimetype": "text/x-python",
   "name": "python",
   "nbconvert_exporter": "python",
   "pygments_lexer": "ipython3",
   "version": "3.10.10"
  }
 },
 "nbformat": 4,
 "nbformat_minor": 5
}
